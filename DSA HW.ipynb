{
 "cells": [
  {
   "cell_type": "code",
   "execution_count": 1,
   "id": "f5357129-ab0a-4f81-a18f-f7975a7fc656",
   "metadata": {},
   "outputs": [
    {
     "name": "stdout",
     "output_type": "stream",
     "text": [
      "Move disk 1 from rod A to rod C\n",
      "Move disk 2 from rod A to rod B\n",
      "Move disk 1 from rod C to rod B\n",
      "Move disk 3 from rod A to rod C\n",
      "Move disk 1 from rod B to rod A\n",
      "Move disk 2 from rod B to rod C\n",
      "Move disk 1 from rod A to rod C\n"
     ]
    }
   ],
   "source": [
    "def TowerOfHanoi(n, from_rod, to_rod, aux_rod):\n",
    "    if n == 0:\n",
    "        return\n",
    "    TowerOfHanoi(n-1, from_rod, aux_rod, to_rod)\n",
    "    print(\"Move disk\", n, \"from rod\", from_rod, \"to rod\", to_rod)\n",
    "    TowerOfHanoi(n-1, aux_rod, to_rod, from_rod)\n",
    "N = 3\n",
    "TowerOfHanoi(N, 'A', 'C', 'B')"
   ]
  },
  {
   "cell_type": "code",
   "execution_count": 2,
   "id": "d667acc8-0196-4206-9b4e-1569f9bb3604",
   "metadata": {},
   "outputs": [
    {
     "name": "stdout",
     "output_type": "stream",
     "text": [
      "Sum of digits in 12345 is 15\n"
     ]
    }
   ],
   "source": [
    "def sum_of_digit( n ):\n",
    "    if n == 0:\n",
    "        return 0\n",
    "    return (n % 10 + sum_of_digit(int(n / 10)))\n",
    "num = 12345\n",
    "result = sum_of_digit(num)\n",
    "print(\"Sum of digits in\",num,\"is\", result)"
   ]
  },
  {
   "cell_type": "code",
   "execution_count": 3,
   "id": "69e2d2c2-59c6-4740-9b43-a7ebb132975a",
   "metadata": {},
   "outputs": [
    {
     "name": "stdout",
     "output_type": "stream",
     "text": [
      "GCD of 98 and 56 is 14\n"
     ]
    }
   ],
   "source": [
    "def gcd(a, b):\n",
    "    result = min(a, b)\n",
    "    while result:\n",
    "        if a % result == 0 and b % result == 0:\n",
    "            break\n",
    "        result -= 1\n",
    "    return result\n",
    "if __name__ == '__main__':\n",
    "    a = 98\n",
    "    b = 56\n",
    "    print(f\"GCD of {a} and {b} is {gcd(a, b)}\")"
   ]
  },
  {
   "cell_type": "code",
   "execution_count": null,
   "id": "67d58195-243b-46a1-9271-c8911f3bf0bb",
   "metadata": {},
   "outputs": [],
   "source": []
  }
 ],
 "metadata": {
  "kernelspec": {
   "display_name": "Python 3 (ipykernel)",
   "language": "python",
   "name": "python3"
  },
  "language_info": {
   "codemirror_mode": {
    "name": "ipython",
    "version": 3
   },
   "file_extension": ".py",
   "mimetype": "text/x-python",
   "name": "python",
   "nbconvert_exporter": "python",
   "pygments_lexer": "ipython3",
   "version": "3.12.4"
  }
 },
 "nbformat": 4,
 "nbformat_minor": 5
}
